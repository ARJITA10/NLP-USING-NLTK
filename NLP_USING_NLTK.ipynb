{
  "nbformat": 4,
  "nbformat_minor": 0,
  "metadata": {
    "colab": {
      "provenance": [],
      "authorship_tag": "ABX9TyMBLZe7kcVJBfdrpkpWi1qB",
      "include_colab_link": true
    },
    "kernelspec": {
      "name": "python3",
      "display_name": "Python 3"
    },
    "language_info": {
      "name": "python"
    }
  },
  "cells": [
    {
      "cell_type": "markdown",
      "metadata": {
        "id": "view-in-github",
        "colab_type": "text"
      },
      "source": [
        "<a href=\"https://colab.research.google.com/github/ARJITA10/NLP-USING-NLTK/blob/main/NLP_USING_NLTK.ipynb\" target=\"_parent\"><img src=\"https://colab.research.google.com/assets/colab-badge.svg\" alt=\"Open In Colab\"/></a>"
      ]
    },
    {
      "cell_type": "code",
      "execution_count": null,
      "metadata": {
        "colab": {
          "base_uri": "https://localhost:8080/"
        },
        "id": "9RCNgFqUaWdS",
        "outputId": "93fe5ee2-b731-4499-a774-98aee092e557"
      },
      "outputs": [
        {
          "output_type": "stream",
          "name": "stderr",
          "text": [
            "[nltk_data] Downloading package punkt to /root/nltk_data...\n",
            "[nltk_data]   Package punkt is already up-to-date!\n",
            "[nltk_data] Error loading stop: Package 'stop' not found in index\n",
            "[nltk_data] Downloading package stopwords to /root/nltk_data...\n",
            "[nltk_data]   Package stopwords is already up-to-date!\n"
          ]
        },
        {
          "output_type": "execute_result",
          "data": {
            "text/plain": [
              "True"
            ]
          },
          "metadata": {},
          "execution_count": 18
        }
      ],
      "source": [
        "#downloading packages and importing\n",
        "import nltk\n",
        "nltk.download('punkt')\n",
        "nltk.download('stop')\n",
        "nltk.download('stopwords')"
      ]
    },
    {
      "cell_type": "code",
      "source": [
        "#import and load model\n",
        "import spacy\n",
        "nlp = spacy.load(\"en_core_web_sm\")\n",
        "nlp\n",
        "nlp = spacy.blank(\"hi\")"
      ],
      "metadata": {
        "id": "43Ez7aJ2bLob"
      },
      "execution_count": null,
      "outputs": []
    },
    {
      "cell_type": "code",
      "source": [
        "text=\"last week, the university of cambride shared its own research that shows if everyone wears a mask outside home, dreaded 'second wave' of the panddemic can be avoided.\""
      ],
      "metadata": {
        "id": "afoysn4Tc3CZ"
      },
      "execution_count": null,
      "outputs": []
    },
    {
      "cell_type": "code",
      "source": [
        "#TOKENIATION WITH NLTK\n",
        "tokens = nltk.word_tokenize(text)\n",
        "for token in tokens:\n",
        "  print(token)\n"
      ],
      "metadata": {
        "colab": {
          "base_uri": "https://localhost:8080/"
        },
        "id": "f8IV5kyXd20l",
        "outputId": "4f072e72-e021-4dc4-b60e-c5839d9ac3c5"
      },
      "execution_count": null,
      "outputs": [
        {
          "output_type": "stream",
          "name": "stdout",
          "text": [
            "last\n",
            "week\n",
            ",\n",
            "the\n",
            "university\n",
            "of\n",
            "cambride\n",
            "shared\n",
            "its\n",
            "own\n",
            "research\n",
            "that\n",
            "shows\n",
            "if\n",
            "everyone\n",
            "wears\n",
            "a\n",
            "mask\n",
            "outside\n",
            "home\n",
            ",\n",
            "dreaded\n",
            "'second\n",
            "wave\n",
            "'\n",
            "of\n",
            "the\n",
            "panddemic\n",
            "can\n",
            "be\n",
            "avoided\n",
            ".\n"
          ]
        }
      ]
    },
    {
      "cell_type": "code",
      "source": [
        "#tokenization with spacy\n",
        "nlp = spacy.load(\"en_core_web_sm\")\n",
        "doc = nlp(text)\n",
        "for token in doc:\n",
        "  print(token.text)"
      ],
      "metadata": {
        "colab": {
          "base_uri": "https://localhost:8080/"
        },
        "id": "gu2d59W__u4k",
        "outputId": "3f391256-67c7-42c8-93b6-0942b315e33e"
      },
      "execution_count": null,
      "outputs": [
        {
          "output_type": "stream",
          "name": "stdout",
          "text": [
            "last\n",
            "week\n",
            ",\n",
            "the\n",
            "university\n",
            "of\n",
            "cambride\n",
            "shared\n",
            "its\n",
            "own\n",
            "research\n",
            "that\n",
            "shows\n",
            "if\n",
            "everyone\n",
            "wears\n",
            "a\n",
            "mask\n",
            "outside\n",
            "home\n",
            ",\n",
            "dreaded\n",
            "'\n",
            "second\n",
            "wave\n",
            "'\n",
            "of\n",
            "the\n",
            "panddemic\n",
            "can\n",
            "be\n",
            "avoided\n",
            ".\n"
          ]
        }
      ]
    },
    {
      "cell_type": "code",
      "source": [
        "text=\"\"\"Coronavirus disease (COVID-19) is an infectious disease caused by the SARS-CoV-2 virus.\n",
        "\n",
        "Most people infected with the virus will experience mild to moderate respiratory illness and recover without requiring special treatment. However, some will become seriously ill and require medical attention. Older people and those with underlying medical conditions like cardiovascular disease, diabetes, chronic respiratory disease, or cancer are more likely to develop serious illness. Anyone can get sick with COVID-19 and become seriously ill or die at any age.\n",
        "\n",
        "The best way to prevent and slow down transmission is to be well informed about the disease and how the virus spreads. Protect yourself and others from infection by staying at least 1 metre apart from others, wearing a properly fitted mask, and washing your hands or using an alcohol-based rub frequently. Get vaccinated when it’s your turn and follow local guidance.\n",
        "\n",
        "The virus can spread from an infected person’s mouth or nose in small liquid particles when they cough, sneeze, speak, sing or breathe. These particles range from larger respiratory droplets to smaller aerosols. It is important to practice respiratory etiquette, for example by coughing into a flexed elbow, and to stay home and self-isolate until you recover if you feel unwell.\n",
        "\"\"\"\n"
      ],
      "metadata": {
        "id": "N4VxMoEqAJP3"
      },
      "execution_count": null,
      "outputs": []
    },
    {
      "cell_type": "code",
      "source": [
        "#tokenization the text into sentences with spacy\n",
        "doc = nlp(text)\n",
        "for sentence in doc.sents:\n",
        "  print(sentence)\n",
        "  print('')"
      ],
      "metadata": {
        "colab": {
          "base_uri": "https://localhost:8080/"
        },
        "id": "XEI4jJMtDA-y",
        "outputId": "38e36c3d-9b00-475e-ea54-c2cd00627b13"
      },
      "execution_count": null,
      "outputs": [
        {
          "output_type": "stream",
          "name": "stdout",
          "text": [
            "Coronavirus disease (COVID-19) is an infectious disease caused by the SARS-CoV-2 virus.\n",
            "\n",
            "\n",
            "\n",
            "Most people infected with the virus will experience mild to moderate respiratory illness and recover without requiring special treatment.\n",
            "\n",
            "However, some will become seriously ill and require medical attention.\n",
            "\n",
            "Older people and those with underlying medical conditions like cardiovascular disease, diabetes, chronic respiratory disease, or cancer are more likely to develop serious illness.\n",
            "\n",
            "Anyone can get sick with COVID-19 and become seriously ill or die at any age.\n",
            "\n",
            "\n",
            "\n",
            "The best way to prevent and slow down transmission is to be well informed about the disease and how the virus spreads.\n",
            "\n",
            "Protect yourself and others from infection by staying at least 1 metre apart from others, wearing a properly fitted mask, and washing your hands or using an alcohol-based rub frequently.\n",
            "\n",
            "Get vaccinated when it’s your turn and follow local guidance.\n",
            "\n",
            "\n",
            "\n",
            "The virus can spread from an infected person’s mouth or nose in small liquid particles when they cough, sneeze, speak, sing or breathe.\n",
            "\n",
            "These particles range from larger respiratory droplets to smaller aerosols.\n",
            "\n",
            "It is important to practice respiratory etiquette, for example by coughing into a flexed elbow, and to stay home and self-isolate until you recover if you feel unwell.\n",
            "\n",
            "\n"
          ]
        }
      ]
    },
    {
      "cell_type": "code",
      "source": [
        "text = \"walter was feeling anxious. He was diagonsed today. He probably is the best person I know.\"\n",
        "stop_words_and_delims = ['was','is','the','.',',','-','!','?']\n",
        "for r in stop_words_and_delims:\n",
        "  text = text.replace(r,'DELIM')\n",
        "words = [t.strip() for t in text.split('DELIM')]\n",
        "words_filtered = list(filter(lambda a:a not in [''],words))\n",
        "words_filtered\n"
      ],
      "metadata": {
        "colab": {
          "base_uri": "https://localhost:8080/"
        },
        "id": "KJ3aMQ76EkFx",
        "outputId": "24991b13-ebba-47f9-a97d-89d69dfb9b36"
      },
      "execution_count": null,
      "outputs": [
        {
          "output_type": "execute_result",
          "data": {
            "text/plain": [
              "['walter',\n",
              " 'feeling anxious',\n",
              " 'He',\n",
              " 'diagonsed today',\n",
              " 'He probably',\n",
              " 'best person I know']"
            ]
          },
          "metadata": {},
          "execution_count": 25
        }
      ]
    },
    {
      "cell_type": "code",
      "source": [
        "text=\"\"\"Scientists first identified a human coronavirus in 1965. It caused a common cold. Later that decade, researchers found a group of similar human and animal viruses and named them after their crown-like appearance.\n",
        "\n",
        "Seven coronaviruses can infect humans. The one that causes SARS emerged in southern China in 2002 and quickly spread to 28 other countries. More than 8,000 people were infected by July 2003, and 774 died. A small outbreak in 2004 involved only four more cases. This coronavirus causes fever, headache, and respiratory problems such as cough and shortness of breath.\n",
        "\n",
        "MERS started in Saudi Arabia in 2012. Almost all of the nearly 2,500 cases have been in people who live in or travel to the Middle East. This coronavirus is less contagious than its SARS cousin but more deadly, killing 858 people. It has the same respiratory symptoms but can also cause kidney failure.\"\"\""
      ],
      "metadata": {
        "id": "RvPZPafRIWyC"
      },
      "execution_count": null,
      "outputs": []
    },
    {
      "cell_type": "code",
      "source": [
        "#METHOD 1\n",
        "#REMOVING STOPWORDS IN NLTK\n",
        "from nltk.corpus import stopwords\n",
        "my_stopwords = set(stopwords.words('english'))\n",
        "new_tokens=[]\n",
        "#tokenization using word_tokenize()\n",
        "all_tokens = nltk.word_tokenize(text)\n",
        "for token in all_tokens:\n",
        "  if token not in my_stopwords:\n",
        "    new_tokens.append(token)\n",
        "\n",
        "\" \".join (new_tokens)"
      ],
      "metadata": {
        "colab": {
          "base_uri": "https://localhost:8080/",
          "height": 88
        },
        "id": "FDWs1NNhMPTl",
        "outputId": "47e3b436-a8fc-470e-e417-55c3ed6e693d"
      },
      "execution_count": null,
      "outputs": [
        {
          "output_type": "execute_result",
          "data": {
            "text/plain": [
              "'Scientists first identified human coronavirus 1965 . It caused common cold . Later decade , researchers found group similar human animal viruses named crown-like appearance . Seven coronaviruses infect humans . The one causes SARS emerged southern China 2002 quickly spread 28 countries . More 8,000 people infected July 2003 , 774 died . A small outbreak 2004 involved four cases . This coronavirus causes fever , headache , respiratory problems cough shortness breath . MERS started Saudi Arabia 2012 . Almost nearly 2,500 cases people live travel Middle East . This coronavirus less contagious SARS cousin deadly , killing 858 people . It respiratory symptoms also cause kidney failure .'"
            ],
            "application/vnd.google.colaboratory.intrinsic+json": {
              "type": "string"
            }
          },
          "metadata": {},
          "execution_count": 27
        }
      ]
    },
    {
      "cell_type": "code",
      "source": [
        "text = \"Dancing is an art.Students should be taught dance as a subject in schedule . I danced in many of my school function.Some people are always hesitating to dance.\""
      ],
      "metadata": {
        "id": "FoKwz1rOWFJs"
      },
      "execution_count": null,
      "outputs": []
    },
    {
      "cell_type": "code",
      "source": [
        "#streaming with nltk's PorterStemmer\n",
        "from nltk .stem import PorterStemmer\n",
        "stemmer = PorterStemmer()\n",
        "stemmed_tokens=[]\n",
        "for token in nltk.word_tokenize(text):\n",
        "  stemmed_tokens.append(stemmer.stem(token))\n",
        "\n",
        "  \" \".join(stemmed_tokens)"
      ],
      "metadata": {
        "id": "ck381eaxzn5g"
      },
      "execution_count": null,
      "outputs": []
    },
    {
      "cell_type": "code",
      "source": [
        "#lemmatisation using spacy's lemme_attribute of token\n",
        "nlp=spacy.load(\"en_core_web_sm\")\n",
        "doc=nlp(text)\n",
        "lemmatized=(token.lemma_ for token in doc)\n",
        "\" \".join(lemmatized)\n"
      ],
      "metadata": {
        "colab": {
          "base_uri": "https://localhost:8080/",
          "height": 36
        },
        "id": "FvAqDm368LHk",
        "outputId": "e096d061-66ca-416d-89cb-01bbeac24826"
      },
      "execution_count": null,
      "outputs": [
        {
          "output_type": "execute_result",
          "data": {
            "text/plain": [
              "'dancing be an art . student should be teach dance as a subject in schedule . I dance in many of my school function . some people be always hesitate to dance .'"
            ],
            "application/vnd.google.colaboratory.intrinsic+json": {
              "type": "string"
            }
          },
          "metadata": {},
          "execution_count": 30
        }
      ]
    },
    {
      "cell_type": "code",
      "source": [
        "import nltk\n",
        "from nltk.stem import WordNetLemmatizer,PorterStemmer\n",
        "nltk.download('punkt')\n",
        "nltk.download('wordnet')\n",
        "#sample list of words\n",
        "words =['running','flies','better','happier','easily','jumps']\n",
        "\n",
        "#initialize lemmatizer and stemmer\n",
        "lemmatizer =WordNetLemmatizer()\n",
        "stemmer = PorterStemmer()\n",
        "\n",
        "#lemmatization and stemming\n",
        "lemmatized_words = [lemmatizer.lemmatize(word) for word in words]\n",
        "stemmed_words = [stemmer.stem(word) for word in words]\n",
        "\n",
        "#Display results\n",
        "print(\"original words:\",words)\n",
        "print(\"lemmatized words:\", lemmatized_words)\n",
        "print(\"stemmed words:\", stemmed_words)"
      ],
      "metadata": {
        "colab": {
          "base_uri": "https://localhost:8080/"
        },
        "id": "6yJof8Bb6ixb",
        "outputId": "106bd8c1-884a-4513-feeb-b03f9f918954"
      },
      "execution_count": null,
      "outputs": [
        {
          "output_type": "stream",
          "name": "stdout",
          "text": [
            "original words: ['running', 'flies', 'better', 'happier', 'easily', 'jumps']\n",
            "lemmatized words: ['running', 'fly', 'better', 'happier', 'easily', 'jump']\n",
            "stemmed words: ['run', 'fli', 'better', 'happier', 'easili', 'jump']\n"
          ]
        },
        {
          "output_type": "stream",
          "name": "stderr",
          "text": [
            "[nltk_data] Downloading package punkt to /root/nltk_data...\n",
            "[nltk_data]   Package punkt is already up-to-date!\n",
            "[nltk_data] Downloading package wordnet to /root/nltk_data...\n",
            "[nltk_data]   Package wordnet is already up-to-date!\n"
          ]
        }
      ]
    },
    {
      "cell_type": "code",
      "source": [
        "import spacy\n",
        "\n",
        "#load the english language model\n",
        "nlp = spacy.load(\"en_core_web_sm\")\n",
        "def perform_ner(text):\n",
        "  #process the text with spacy nlp pipeline\n",
        "  doc = nlp(text)\n",
        "\n",
        "  #iterate through entities and print their text and label\n",
        "  for ent in doc.ents:\n",
        "    print(f\"Entity: {ent.text}, label:{ent.label_}\")\n",
        "\n",
        "#example text\n",
        "text = \" inc. Apple was founded by steve jobs and has its headquarters in capertino, california. India is a great country\"\n",
        "\n",
        "#perform NER on the example text\n",
        "perform_ner(text)"
      ],
      "metadata": {
        "colab": {
          "base_uri": "https://localhost:8080/"
        },
        "id": "CGvIBBRq9KEi",
        "outputId": "bce113ff-c2c2-4476-bcca-d8170b71e6be"
      },
      "execution_count": null,
      "outputs": [
        {
          "output_type": "stream",
          "name": "stdout",
          "text": [
            "Entity: Apple, label:ORG\n",
            "Entity: capertino, label:GPE\n",
            "Entity: california, label:GPE\n",
            "Entity: India, label:GPE\n"
          ]
        }
      ]
    },
    {
      "cell_type": "code",
      "source": [
        "#example text data\n",
        "text_data = [\n",
        "    \"I loved the movie. It was amazing!\",\n",
        "    \"The food was terrible and the service was bad.\",\n",
        "    \"The weather is beautiful today.\"\n",
        "]\n",
        "\n",
        "#predefined lists of positive and negative words\n",
        "positive_words = [\"loved\",\"amazing\",\"beatiful\"]\n",
        "negative_words = [\"terrible\",\"bad\"]\n",
        "\n",
        "#perform sentiment analysis based on word lists\n",
        "def analyze_sentiment(text):\n",
        "  words = text.lower().split()\n",
        "  positive_count = sum(word in positive_words for word in words)\n",
        "  negative_count = sum(word in negative_words for word in words)\n",
        "\n",
        "  if positive_count > negative_count:\n",
        "    return \"Positive\"\n",
        "  elif negative_count > positive_count:\n",
        "    return \"Negative\"\n",
        "  else:\n",
        "    return \"Neutral\"\n",
        "\n",
        "#analyze sentiment for each piece of text\n",
        "for i,text in enumerate(text_data):\n",
        "  sentiment = analyze_sentiment(text)\n",
        "  print(f\"text {i+1}:'{text}'\")\n",
        "  print(f\"Sentiment: {sentiment}\\n\")"
      ],
      "metadata": {
        "colab": {
          "base_uri": "https://localhost:8080/"
        },
        "id": "FCxdH3t7_8vy",
        "outputId": "8b2d0d97-677f-4ccb-e966-9ba761191e1f"
      },
      "execution_count": null,
      "outputs": [
        {
          "output_type": "stream",
          "name": "stdout",
          "text": [
            "text 1:'I loved the movie. It was amazing!'\n",
            "Sentiment: Positive\n",
            "\n",
            "text 2:'The food was terrible and the service was bad.'\n",
            "Sentiment: Negative\n",
            "\n",
            "text 3:'The weather is beautiful today.'\n",
            "Sentiment: Neutral\n",
            "\n"
          ]
        }
      ]
    },
    {
      "cell_type": "code",
      "source": [
        "import re\n",
        "#example text containing information about relationships\n",
        "text = \"John is the father of Mary. Mary works at a company.\"\n",
        "#Define patterns to extract relationships\n",
        "relationship_patterns = [\n",
        "    (r\"(\\w+) is the father of (\\w+)\",\"father\"),\n",
        "    (r\"(\\w+) works at (\\w+) company\",\"works_at\")\n",
        "]\n",
        "#perform relationship extraction using reqular expressions\n",
        "def extract_relationships(text,patterns):\n",
        "  relationships = []\n",
        "  for pattern, label in patterns:\n",
        "    matches = re.findall(pattern,text)\n",
        "    for match in matches:\n",
        "      relationships.append((match[0],match[1],label))\n",
        "  return relationships\n",
        "\n",
        "#extract relationships from the example text\n",
        "extracted_relationships = extract_relationships(text, relationship_patterns)\n",
        "\n",
        "#print the extracted relationships\n",
        "for relationship in extracted_relationships:\n",
        "\n",
        "  subject, object_,label = relationship\n",
        "  print(f\"{subject} -> {label} -> {object_}\")"
      ],
      "metadata": {
        "colab": {
          "base_uri": "https://localhost:8080/"
        },
        "id": "YBbSeR0NEsck",
        "outputId": "0e8e2a4b-4a28-40f6-a963-feed94b2f3bf"
      },
      "execution_count": null,
      "outputs": [
        {
          "output_type": "stream",
          "name": "stdout",
          "text": [
            "John -> father -> Mary\n",
            "Mary -> works_at -> a\n"
          ]
        }
      ]
    }
  ]
}